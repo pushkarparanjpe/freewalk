{
 "cells": [
  {
   "cell_type": "code",
   "execution_count": 2,
   "metadata": {},
   "outputs": [
    {
     "name": "stdout",
     "output_type": "stream",
     "text": [
      "{'stance_amplitude': 1450,\n 'stance_duration': 96,\n 'swing_amplitude': 1571,\n 'swing_duration': 33,\n 'walking_speed': 14}\n   stance_amplitude  stance_duration  swing_amplitude  swing_duration  \\\n0              1450               96             1571              33   \n\n   walking_speed  \n0             14  \n"
     ]
    }
   ],
   "source": [
    "from util.analyze import Analyze\n",
    "import numpy as np\n",
    "from pprint import pprint\n",
    "from pandas import DataFrame\n",
    "\n",
    "\n",
    "class Bout(object):\n",
    "    \"\"\"\n",
    "    A single walking bout.\n",
    "    \n",
    "    Walking-speed-param is calculated over the entire walking bout\n",
    "\n",
    "    Value of any leg-motion-param is\n",
    "     averaged over all values\n",
    "     averaged over all legs in the specified body segment \n",
    "    \"\"\"\n",
    "\n",
    "    def __init__(self, path):\n",
    "        \"\"\"\n",
    "        \n",
    "        :param path: path to a single walking bout video that is leg-tracked \n",
    "        \"\"\"\n",
    "        \n",
    "        ana = Analyze(path=path)\n",
    "\n",
    "        self.walking_speed = int(ana.getWalkingSpeed()[0])\n",
    "\n",
    "        body_segment = ('L2', 'R2', )\n",
    "\n",
    "        swing_amplitudes = []\n",
    "        swing_durations = []\n",
    "        stance_amplitudes = []\n",
    "        stance_durations = []\n",
    "        for leg in body_segment:\n",
    "            swing_amplitudes.extend(ana.getSwingAmplitude(leg))\n",
    "            swing_durations.extend(ana.getSwingDuration(leg))\n",
    "            stance_amplitudes.extend(ana.getStanceAmplitude(leg))\n",
    "            stance_durations.extend(ana.getStanceDuration(leg))\n",
    "\n",
    "        self.swing_amplitude = np.mean(swing_amplitudes, dtype=np.int)\n",
    "        self.swing_duration = np.mean(swing_durations, dtype=np.int)\n",
    "        self.stance_amplitude = np.mean(stance_amplitudes, dtype=np.int)\n",
    "        self.stance_duration = np.mean(stance_durations, dtype=np.int)\n",
    "\n",
    "    def df(self):\n",
    "        return DataFrame.from_records([self.__dict__])\n",
    "\n",
    "path = '/media/pushkar/ccc1f18b-7f26-4c0d-b510-a582d28d075e/pushkar/walking/data/' \\\n",
    "            'Swetha/analysis/RNAi/Constitutive/Subsets/Rdli/48183 GAL4/top30/01'\n",
    "\n",
    "bout = Bout(path)\n",
    "pprint(bout.__dict__)\n",
    "pprint(bout.df())"
   ]
  },
  {
   "cell_type": "code",
   "execution_count": 27,
   "metadata": {},
   "outputs": [
    {
     "name": "stdout",
     "output_type": "stream",
     "text": [
      "Analysing: 48183-GAL4 X UAS-Rdli\n@ /media/pushkar/ccc1f18b-7f26-4c0d-b510-a582d28d075e/pushkar/walking/data/Swetha/analysis/RNAi/Constitutive/Subsets/Rdli/48183 GAL4/top30/\n"
     ]
    },
    {
     "name": "stdout",
     "output_type": "stream",
     "text": [
      "Analysed 30 walking bouts\n/home/pushkar/Documents/Workspace/freewalk/data/48183-GAL4 X UAS-Rdli.csv\n"
     ]
    }
   ],
   "source": [
    "from os import listdir\n",
    "from os.path import isdir\n",
    "from os.path import join as pjoin\n",
    "\n",
    "\n",
    "class Trial(object):\n",
    "    \"\"\"\n",
    "    A Trial contains many Bouts of a single genotype\n",
    "    \"\"\"\n",
    "    \n",
    "    def __init__(self, genotype, root_path):\n",
    "        print('Analysing: %s' % genotype)\n",
    "        print('@ %s' % root_path)\n",
    "        self.genotype = genotype\n",
    "        paths = [pjoin(root_path, path)\n",
    "                    for path in listdir(root_path)\n",
    "                 if isdir(pjoin(root_path, path)) and 'unusable' not in path and 'ignore' not in path]\n",
    "        \n",
    "        df = DataFrame()\n",
    "        for path in paths:\n",
    "            bout = Bout(path)\n",
    "            df = df.append(bout.df(), ignore_index=True)\n",
    "        print('Analysed %i walking bouts' % len(df.index))\n",
    "        self.df = df\n",
    "\n",
    "    def save_as_csv(self, path):\n",
    "        fp = pjoin(path, self.genotype+'.csv')\n",
    "        self.df.to_csv(fp)\n",
    "        return fp\n",
    "\n",
    "trial = Trial(\n",
    "    genotype='48183-GAL4 X UAS-Rdli',\n",
    "    root_path='/media/pushkar/ccc1f18b-7f26-4c0d-b510-a582d28d075e/pushkar/walking/data/' \\\n",
    "            'Swetha/analysis/RNAi/Constitutive/Subsets/Rdli/48183 GAL4/top30/'\n",
    ")\n",
    "file_path = trial.save_as_csv(\n",
    "    path='/home/pushkar/Documents/Workspace/freewalk/data'\n",
    ")\n",
    "print(file_path)"
   ]
  },
  {
   "cell_type": "code",
   "execution_count": 28,
   "metadata": {
    "collapsed": false
   },
   "outputs": [
    {
     "name": "stdout",
     "output_type": "stream",
     "text": [
      "Analysing: 48183-GAL4 X UAS-Rdli\n@ /media/pushkar/ccc1f18b-7f26-4c0d-b510-a582d28d075e/pushkar/walking/data/Swetha/analysis/RNAi/Constitutive/Subsets/Rdli/48183 GAL4/top30\n"
     ]
    },
    {
     "name": "stdout",
     "output_type": "stream",
     "text": [
      "Analysed 30 walking bouts\n/home/pushkar/Documents/Workspace/freewalk/data/csv/48183-GAL4 X UAS-Rdli.csv\n\nAnalysing: VGNReg3-GAL4 x UAS-Rdli\n@ /media/pushkar/ccc1f18b-7f26-4c0d-b510-a582d28d075e/pushkar/walking/data/Swetha/analysis/RNAi/Constitutive/Subsets/Rdli/VGN Intron Region 3 GAL4/Consolidated_VGNReg3_Rdli\n"
     ]
    },
    {
     "name": "stdout",
     "output_type": "stream",
     "text": [
      "Analysed 44 walking bouts\n/home/pushkar/Documents/Workspace/freewalk/data/csv/VGNReg3-GAL4 x UAS-Rdli.csv\n\nAnalysing: 48183-GAL4 X UAS-GFP\n@ /media/pushkar/ccc1f18b-7f26-4c0d-b510-a582d28d075e/pushkar/walking/data/Swetha/analysis/RNAi/Constitutive/CONTROLS/ 48183 X UAS-GFP/top30\n"
     ]
    },
    {
     "name": "stdout",
     "output_type": "stream",
     "text": [
      "Analysed 30 walking bouts\n/home/pushkar/Documents/Workspace/freewalk/data/csv/48183-GAL4 X UAS-GFP.csv\n\nAnalysing: VGNReg3-GAL4 x UAS-mCD8GFP\n@ /media/pushkar/ccc1f18b-7f26-4c0d-b510-a582d28d075e/pushkar/walking/data/Swetha/analysis/RNAi/Constitutive/CONTROLS/VGN-Intron-Region3-GAL4 x UAS_mCD8GFP\n"
     ]
    },
    {
     "name": "stdout",
     "output_type": "stream",
     "text": [
      "Analysed 48 walking bouts\n/home/pushkar/Documents/Workspace/freewalk/data/csv/VGNReg3-GAL4 x UAS-mCD8GFP.csv\n\nAnalysing: OK371-GAL4-TShGal80 X Rdli\n@ /media/pushkar/ccc1f18b-7f26-4c0d-b510-a582d28d075e/pushkar/walking/data/Swetha/analysis/RNAi/Constitutive/Subsets/Rdli/OK371-TShGal80 X Rdl- G RNAi\n"
     ]
    },
    {
     "name": "stdout",
     "output_type": "stream",
     "text": [
      "Analysed 30 walking bouts\n/home/pushkar/Documents/Workspace/freewalk/data/csv/OK371-GAL4-TShGal80 X Rdli.csv\n\nAnalysing: OK371-GAL4-TShGal80 X UAS-GFP\n@ /media/pushkar/ccc1f18b-7f26-4c0d-b510-a582d28d075e/pushkar/walking/data/Swetha/analysis/RNAi/Constitutive/CONTROLS/OK371-TshGal80 X UAS_GFP\n"
     ]
    },
    {
     "name": "stdout",
     "output_type": "stream",
     "text": [
      "Analysed 30 walking bouts\n/home/pushkar/Documents/Workspace/freewalk/data/csv/OK371-GAL4-TShGal80 X UAS-GFP.csv\n\nAnalysing: CS_Fast\n@ /media/pushkar/ccc1f18b-7f26-4c0d-b510-a582d28d075e/pushkar/walking/data/Pushkar/analysis/CS_Fast\nAnalysed 14 walking bouts\n/home/pushkar/Documents/Workspace/freewalk/data/csv/CS_Fast.csv\n\nAnalysing: CS_Slow\n@ /media/pushkar/ccc1f18b-7f26-4c0d-b510-a582d28d075e/pushkar/walking/data/Pushkar/analysis/CS_Slow\n"
     ]
    },
    {
     "name": "stdout",
     "output_type": "stream",
     "text": [
      "Analysed 25 walking bouts\n/home/pushkar/Documents/Workspace/freewalk/data/csv/CS_Slow.csv\n\nAnalysing: UAS-Dicer2;OK371 GAL4 X UAS-mCD8GFP\n@ /media/pushkar/ccc1f18b-7f26-4c0d-b510-a582d28d075e/pushkar/walking/data/Swetha/analysis/RNAi/Constitutive/CONTROLS/UAS-Dicer2;OK371-GAL4 x UAS-mCD8GFP/Consolidated_UAS-Dicer2;OK371-GAL4 x UAS-mCD8GFP\n"
     ]
    },
    {
     "name": "stdout",
     "output_type": "stream",
     "text": [
      "Analysed 76 walking bouts\n/home/pushkar/Documents/Workspace/freewalk/data/csv/UAS-Dicer2;OK371 GAL4 X UAS-mCD8GFP.csv\n\nAnalysing: UAS-Rdli x CS\n@ /media/pushkar/ccc1f18b-7f26-4c0d-b510-a582d28d075e/pushkar/walking/data/Swetha/analysis/RNAi/Constitutive/CONTROLS/UAS-Rdli x CS/Consolidated_UAS-Rdli x CS\n"
     ]
    },
    {
     "name": "stdout",
     "output_type": "stream",
     "text": [
      "Analysed 28 walking bouts\n/home/pushkar/Documents/Workspace/freewalk/data/csv/UAS-Rdli x CS.csv\n\nAnalysing: UAS-Dicer2;OK371 GAL4 X UAS-Rdl RNAi\n@ /media/pushkar/ccc1f18b-7f26-4c0d-b510-a582d28d075e/pushkar/walking/data/Swetha/analysis/RNAi/Constitutive/PanMn/Rdli/Consolidated_UAS-Dicer2;OK371-GAL4 x UAS-Rdli\n"
     ]
    },
    {
     "name": "stdout",
     "output_type": "stream",
     "text": [
      "Analysed 68 walking bouts\n/home/pushkar/Documents/Workspace/freewalk/data/csv/UAS-Dicer2;OK371 GAL4 X UAS-Rdl RNAi.csv\n\nAnalysing: UAS-Dicer2;OK371 GAL4;TubpGAL80ts X UAS-mCD8GFP\n@ /media/pushkar/ccc1f18b-7f26-4c0d-b510-a582d28d075e/pushkar/walking/data/Swetha/analysis/RNAi/AdultSpecific/UAS-Dicer2;OK371-GAL4;TubGAL80ts x UAS-mCD8GFP/Consolidated_UAS-Dicer2;OK371-GAl4;TubGAL80ts x UAS-mCD8GFP\n"
     ]
    },
    {
     "name": "stdout",
     "output_type": "stream",
     "text": [
      "Analysed 108 walking bouts\n/home/pushkar/Documents/Workspace/freewalk/data/csv/UAS-Dicer2;OK371 GAL4;TubpGAL80ts X UAS-mCD8GFP.csv\n\nAnalysing: UAS-Dicer2;OK371 GAL4;TubpGAL80ts X UAS-Rdl RNAi\n@ /media/pushkar/ccc1f18b-7f26-4c0d-b510-a582d28d075e/pushkar/walking/data/Swetha/analysis/RNAi/AdultSpecific/dicer;OK371;GAl80ts X rdl G-RNAi/consolidated_rdlgi\n"
     ]
    },
    {
     "name": "stdout",
     "output_type": "stream",
     "text": [
      "Analysed 77 walking bouts\n/home/pushkar/Documents/Workspace/freewalk/data/csv/UAS-Dicer2;OK371 GAL4;TubpGAL80ts X UAS-Rdl RNAi.csv\n\nAnalysing: Temperature control; UAS-Dicer2;OK371 GAL4;TubpGAL80ts X UAS-Rdl RNAi\n@ /media/pushkar/ccc1f18b-7f26-4c0d-b510-a582d28d075e/pushkar/walking/data/Swetha/analysis/RNAi/AdultSpecific/Temperature_CTRLS/Consolidated_TempCtrls_RDLi\n"
     ]
    },
    {
     "name": "stdout",
     "output_type": "stream",
     "text": [
      "Analysed 9 walking bouts\n/home/pushkar/Documents/Workspace/freewalk/data/csv/Temperature control; UAS-Dicer2;OK371 GAL4;TubpGAL80ts X UAS-Rdl RNAi.csv\n\n"
     ]
    }
   ],
   "source": [
    "output_path = '/home/pushkar/Documents/Workspace/freewalk/data/csv/'\n",
    "df_table_of_trials = DataFrame.from_csv('/home/pushkar/Documents/Workspace/freewalk/data/TableOfTrials.csv')\n",
    "\n",
    "for i, row in df_table_of_trials.iterrows():\n",
    "    trial = Trial(\n",
    "        genotype=row.genotype,\n",
    "        root_path=row.root_path\n",
    "    )\n",
    "    file_path = trial.save_as_csv(output_path)\n",
    "    print(file_path)\n",
    "    print()"
   ]
  },
  {
   "cell_type": "code",
   "execution_count": null,
   "metadata": {},
   "outputs": [],
   "source": [
    ""
   ]
  }
 ],
 "metadata": {
  "hide_input": false,
  "kernelspec": {
   "display_name": "Python 3",
   "language": "python",
   "name": "python3"
  },
  "language_info": {
   "codemirror_mode": {
    "name": "ipython",
    "version": 3.0
   },
   "file_extension": ".py",
   "mimetype": "text/x-python",
   "name": "python",
   "nbconvert_exporter": "python",
   "pygments_lexer": "ipython3",
   "version": "3.5.2"
  }
 },
 "nbformat": 4,
 "nbformat_minor": 0
}